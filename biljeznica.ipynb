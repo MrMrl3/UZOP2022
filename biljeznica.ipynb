{
  "cells": [
    {
      "cell_type": "code",
      "execution_count": null,
      "id": "63b2b4d3-ae41-49d3-b3ac-60d4d174a0d9",
      "metadata": {
        "id": "63b2b4d3-ae41-49d3-b3ac-60d4d174a0d9"
      },
      "outputs": [],
      "source": [
        "import pandas as pd\n",
        "import numpy as np\n",
        "from combat.pycombat import pycombat\n",
        "from scipy import stats\n",
        "from lifelines.datasets import load_waltons"
      ]
    },
    {
      "cell_type": "code",
      "execution_count": null,
      "id": "88efb738-13f7-4cac-b645-5cd477202719",
      "metadata": {
        "id": "88efb738-13f7-4cac-b645-5cd477202719",
        "outputId": "0ae1aea4-b7e8-43ee-8adc-dd2a6d734e47"
      },
      "outputs": [
        {
          "name": "stdout",
          "output_type": "stream",
          "text": [
            "     gene_name\n",
            "0        ABCA1\n",
            "1       ABCA10\n",
            "2       ABCA12\n",
            "3       ABCA13\n",
            "4        ABCA2\n",
            "...        ...\n",
            "2747      PDXP\n",
            "2748  PHOSPHO2\n",
            "2749      PNPO\n",
            "2750      DCXR\n",
            "2751      XYLB\n",
            "\n",
            "[2752 rows x 1 columns]\n"
          ]
        }
      ],
      "source": [
        "data = pd.read_excel ('C:\\\\Users\\\\Mrl3\\\\Documents\\\\UZOP2022\\\\metabolicki_geni.xls', sheet_name='All metabolic genes')\n",
        "metabolic_genes = data[['Gene Symbol']]\n",
        "metabolic_genes = metabolic_genes.rename(columns = {'Gene Symbol' : 'gene_name'})\n",
        "print(metabolic_genes)"
      ]
    },
    {
      "cell_type": "code",
      "execution_count": null,
      "id": "419bd592-3d15-4479-806e-6f6fb2e341d1",
      "metadata": {
        "id": "419bd592-3d15-4479-806e-6f6fb2e341d1",
        "outputId": "e193a9d7-c4ea-473f-c5cb-f80b79c4931b"
      },
      "outputs": [
        {
          "name": "stdout",
          "output_type": "stream",
          "text": [
            "          case_id days_to_death\n",
            "0    TCGA-WQ-A9G7           '--\n",
            "1    TCGA-WQ-A9G7           '--\n",
            "2    TCGA-RC-A6M3           '--\n",
            "3    TCGA-RC-A6M3           '--\n",
            "4    TCGA-DD-AAE6           '--\n",
            "..            ...           ...\n",
            "737  TCGA-CC-5258           129\n",
            "738  TCGA-BC-A10S          1423\n",
            "739  TCGA-BC-A10S          1423\n",
            "740  TCGA-CC-5264           102\n",
            "741  TCGA-CC-5264           102\n",
            "\n",
            "[742 rows x 2 columns]\n"
          ]
        }
      ],
      "source": [
        "data = pd.read_csv('C:\\\\Users\\\\Mrl3\\\\Documents\\\\UZOP2022\\\\clinical.tsv', sep='\\t')\n",
        "TCGA_clinical = data[['case_submitter_id', 'days_to_death']]\n",
        "TCGA_clinical.drop_duplicates()\n",
        "TCGA_clinical = TCGA_clinical.rename(columns = {'case_submitter_id' : 'case_id'})\n",
        "print(TCGA_clinical)"
      ]
    },
    {
      "cell_type": "code",
      "execution_count": null,
      "id": "3887ba0f-02fb-4141-9398-ecef34e7e789",
      "metadata": {
        "id": "3887ba0f-02fb-4141-9398-ecef34e7e789",
        "outputId": "291e009d-8f9a-4a7f-ae7e-5f15a25f680b"
      },
      "outputs": [
        {
          "name": "stdout",
          "output_type": "stream",
          "text": [
            "                                  File ID  \\\n",
            "0    d7e635d5-7330-491c-986c-f2737ec5d7bd   \n",
            "1    772bdab0-f31c-441e-b79e-240fd622079b   \n",
            "2    0829bb65-1cde-461c-b511-3649d97c62e7   \n",
            "3    fcf07cf2-437a-4178-a405-c34d800cf75f   \n",
            "4    ddeb287b-8d2f-40f2-89dc-def570237300   \n",
            "..                                    ...   \n",
            "419  e5c65ba0-d937-4ed9-aa81-99bc48717a2d   \n",
            "420  28c03921-6a64-4ce6-9627-8734812e4809   \n",
            "421  9973d6b0-942f-4726-8ac3-ed0ba00f6bd3   \n",
            "422  4341af2d-dee1-4b4a-ad27-00858396c886   \n",
            "423  50510cac-4961-4b8c-b24b-06bfbfead355   \n",
            "\n",
            "                                             File Name       case_id  \n",
            "0    9953447a-4d33-4a53-8395-4ac0fa67ed42.rna_seq.a...  TCGA-DD-AACJ  \n",
            "1    3a390e78-ce52-4743-898c-8c529b342cad.rna_seq.a...  TCGA-DD-A4NE  \n",
            "2    2a3e3e31-ec7e-42e3-b219-2bc84f3888ac.rna_seq.a...  TCGA-ED-A8O6  \n",
            "3    0ac55bd1-ee36-4795-b9d9-4a07495e5a46.rna_seq.a...  TCGA-MI-A75I  \n",
            "4    23a791d2-b0fd-4c72-b3e8-ab3ecfb3c4b8.rna_seq.a...  TCGA-FV-A3I0  \n",
            "..                                                 ...           ...  \n",
            "419  6317d700-9096-4ae7-9b13-40c9b64bf319.rna_seq.a...  TCGA-BC-A110  \n",
            "420  96aa5d94-f2d7-4173-8477-ccbfaa3451b5.rna_seq.a...  TCGA-BC-A112  \n",
            "421  871e5874-2343-46c5-a234-9017a7f29ca2.rna_seq.a...  TCGA-DD-A116  \n",
            "422  78767f1f-fa6f-4d1a-beb7-a2c11381958e.rna_seq.a...  TCGA-EP-A2KA  \n",
            "423  3f6cc934-a895-4155-9257-7b09d36ac917.rna_seq.a...  TCGA-DD-AAW0  \n",
            "\n",
            "[424 rows x 3 columns]\n"
          ]
        }
      ],
      "source": [
        "TCGA_sample_sheet = pd.read_csv('C:\\\\Users\\\\Mrl3\\\\Documents\\\\UZOP2022\\\\gdc_sample_sheet.2022-11-11.tsv', sep='\\t')\n",
        "TCGA_sample_sheet = TCGA_sample_sheet[['File ID', 'File Name', 'Case ID']]\n",
        "TCGA_sample_sheet = TCGA_sample_sheet.rename(columns = {'Case ID' : 'case_id'})\n",
        "print(TCGA_sample_sheet)"
      ]
    },
    {
      "cell_type": "code",
      "execution_count": null,
      "id": "7d4daedb-52a4-4622-9ae6-90f8106a2dda",
      "metadata": {
        "id": "7d4daedb-52a4-4622-9ae6-90f8106a2dda"
      },
      "outputs": [],
      "source": [
        "data_raw = []\n",
        "data= []\n",
        "\n",
        "i=0\n",
        "for col,row in TCGA_sample_sheet.iterrows():\n",
        "    t = pd.read_csv('C:\\\\Users\\\\Mrl3\\\\Documents\\\\UZOP2022\\\\GNC\\\\' + row['File ID'] + \"\\\\\" + row[\"File Name\"], delimiter=\"\\t\", header=1, usecols = ['gene_id', 'gene_name', 'tpm_unstranded'])\n",
        "\n",
        "    tmp = pd.merge(metabolic_genes, t)\n",
        "    data_raw.append(tmp)\n",
        "    \n",
        "    tmp=tmp.drop('gene_id', axis=1).rename(columns={'tpm_unstranded':row['case_id']})\n",
        "    \n",
        "    if(i == 0):\n",
        "        i+ = 1\n",
        "    else:\n",
        "        tmp = tmp.drop('gene_name', axis=1)\n",
        "    \n",
        "    data.append(tmp)\n",
        "    \n"
      ]
    },
    {
      "cell_type": "code",
      "execution_count": null,
      "id": "ebf7bdd5-e61a-44b9-b432-8c200136fa46",
      "metadata": {
        "id": "ebf7bdd5-e61a-44b9-b432-8c200136fa46"
      },
      "outputs": [],
      "source": []
    },
    {
      "cell_type": "code",
      "execution_count": 1,
      "id": "7f82c835-d2b4-45d5-9bce-ef03da50e7cb",
      "metadata": {
        "colab": {
          "base_uri": "https://localhost:8080/",
          "height": 183
        },
        "id": "7f82c835-d2b4-45d5-9bce-ef03da50e7cb",
        "outputId": "02fa074b-57c7-4b8a-d11f-ad780ed8a77d"
      },
      "outputs": [
        {
          "output_type": "error",
          "ename": "NameError",
          "evalue": "ignored",
          "traceback": [
            "\u001b[0;31m---------------------------------------------------------------------------\u001b[0m",
            "\u001b[0;31mNameError\u001b[0m                                 Traceback (most recent call last)",
            "\u001b[0;32m<ipython-input-1-c60a901af578>\u001b[0m in \u001b[0;36m<module>\u001b[0;34m\u001b[0m\n\u001b[0;32m----> 1\u001b[0;31m \u001b[0mTCGA\u001b[0m \u001b[0;34m=\u001b[0m \u001b[0mpd\u001b[0m\u001b[0;34m.\u001b[0m\u001b[0mconcat\u001b[0m\u001b[0;34m(\u001b[0m\u001b[0mdata\u001b[0m\u001b[0;34m,\u001b[0m \u001b[0maxis\u001b[0m\u001b[0;34m=\u001b[0m\u001b[0;36m1\u001b[0m\u001b[0;34m)\u001b[0m\u001b[0;34m\u001b[0m\u001b[0;34m\u001b[0m\u001b[0m\n\u001b[0m\u001b[1;32m      2\u001b[0m \u001b[0mTCGA\u001b[0m \u001b[0;34m=\u001b[0m \u001b[0mTCGA\u001b[0m\u001b[0;34m.\u001b[0m\u001b[0mset_index\u001b[0m\u001b[0;34m(\u001b[0m\u001b[0;34m'gene_name'\u001b[0m\u001b[0;34m)\u001b[0m\u001b[0;34m\u001b[0m\u001b[0;34m\u001b[0m\u001b[0m\n",
            "\u001b[0;31mNameError\u001b[0m: name 'pd' is not defined"
          ]
        }
      ],
      "source": [
        "TCGA = pd.concat(data, axis=1)\n",
        "TCGA = TCGA.set_index('gene_name')"
      ]
    },
    {
      "cell_type": "code",
      "execution_count": null,
      "id": "a9aa4b57-95f2-4326-97ba-5a6d2513692d",
      "metadata": {
        "id": "a9aa4b57-95f2-4326-97ba-5a6d2513692d",
        "outputId": "84a07ec4-9c6e-4902-f91a-a77ebf507d5c"
      },
      "outputs": [
        {
          "name": "stdout",
          "output_type": "stream",
          "text": [
            "        icgc_donor_id gene_name  raw_read_count\n",
            "0             DO50855     SGPP1          193710\n",
            "1             DO50855     SGPP1          192339\n",
            "2             DO50857     SGPP1          195352\n",
            "3             DO50857     SGPP1           80305\n",
            "4             DO50859     SGPP1           53725\n",
            "...               ...       ...             ...\n",
            "1090222       DO48743   SLC18A3            2020\n",
            "1090223       DO48723   SLC18A3             202\n",
            "1090224       DO23547   SLC18A3             202\n",
            "1090225       DO23513   SLC18A3             168\n",
            "1090226       DO23508   SLC18A3            2386\n",
            "\n",
            "[1090227 rows x 3 columns]\n"
          ]
        }
      ],
      "source": [
        "ICGC_exp_seq = pd.read_csv('C:\\\\Users\\\\Mrl3\\\\Documents\\\\UZOP2022\\\\exp_seq.tsv', sep='\\t')\n",
        "ICGC_exp_seq = ICGC_exp_seq[['icgc_donor_id', 'gene_id', 'raw_read_count']]\n",
        "ICGC_exp_seq = ICGC_exp_seq.rename(columns = {'gene_id' : 'gene_name'})\n",
        "ICGC_exp_seq = pd.merge(left=ICGC_exp_seq, right=metabolic_genes)\n",
        "print(ICGC_exp_seq)"
      ]
    },
    {
      "cell_type": "code",
      "execution_count": null,
      "id": "1ad79f9b-9464-49bd-bbe3-89bc09305cd9",
      "metadata": {
        "id": "1ad79f9b-9464-49bd-bbe3-89bc09305cd9",
        "outputId": "8c3f7dc8-03d8-45a6-dc53-870870130c93"
      },
      "outputs": [
        {
          "name": "stdout",
          "output_type": "stream",
          "text": [
            "        icgc_donor_id gene_name       TPM\n",
            "0             DO50855     SGPP1  1.669828\n",
            "1             DO50855     SGPP1  1.658010\n",
            "2             DO50857     SGPP1  1.683983\n",
            "3             DO50857     SGPP1  0.692249\n",
            "4             DO50859     SGPP1  0.463123\n",
            "...               ...       ...       ...\n",
            "1090222       DO48743   SLC18A3  0.017413\n",
            "1090223       DO48723   SLC18A3  0.001741\n",
            "1090224       DO23547   SLC18A3  0.001741\n",
            "1090225       DO23513   SLC18A3  0.001448\n",
            "1090226       DO23508   SLC18A3  0.020568\n",
            "\n",
            "[1090227 rows x 3 columns]\n"
          ]
        }
      ],
      "source": [
        "ICGC_exp_seq['length'] = ICGC_exp_seq['gene_name'].str.len()\n",
        "ICGC_exp_seq['RPK'] = ICGC_exp_seq['raw_read_count']/ICGC_exp_seq['length']\n",
        "RPK_total = ICGC_exp_seq['RPK'].sum()\n",
        "RPK_total = RPK_total / h1000000\n",
        "ICGC_exp_seq['TPM'] = (ICGC_exp_seq['raw_read_count']/RPK_total)\n",
        "ICGC_exp_seq = ICGC_exp_seq[['icgc_donor_id','gene_name','TPM']]\n",
        "print(ICGC_exp_seq)"
      ]
    },
    {
      "cell_type": "code",
      "execution_count": null,
      "id": "c656a84b-82e8-487e-86b7-8604e3ae4a09",
      "metadata": {
        "id": "c656a84b-82e8-487e-86b7-8604e3ae4a09"
      },
      "outputs": [],
      "source": [
        "ICGC_donors = pd.read_csv('C:\\\\Users\\\\Mrl3\\\\Documents\\\\UZOP2022\\\\donor.tsv', sep='\\t')"
      ]
    },
    {
      "cell_type": "code",
      "execution_count": null,
      "id": "c7b68951-2871-4f27-a41b-ae5dca4ad3e6",
      "metadata": {
        "id": "c7b68951-2871-4f27-a41b-ae5dca4ad3e6",
        "outputId": "2a0b6e74-5187-4e99-a4fc-bba40209c67f"
      },
      "outputs": [
        {
          "data": {
            "text/html": [
              "<div>\n",
              "<style scoped>\n",
              "    .dataframe tbody tr th:only-of-type {\n",
              "        vertical-align: middle;\n",
              "    }\n",
              "\n",
              "    .dataframe tbody tr th {\n",
              "        vertical-align: top;\n",
              "    }\n",
              "\n",
              "    .dataframe thead th {\n",
              "        text-align: right;\n",
              "    }\n",
              "</style>\n",
              "<table border=\"1\" class=\"dataframe\">\n",
              "  <thead>\n",
              "    <tr style=\"text-align: right;\">\n",
              "      <th>icgc_donor_id</th>\n",
              "      <th>DO227643</th>\n",
              "      <th>DO227801</th>\n",
              "      <th>DO23508</th>\n",
              "      <th>DO23509</th>\n",
              "      <th>DO23510</th>\n",
              "      <th>DO23511</th>\n",
              "      <th>DO23512</th>\n",
              "      <th>DO23513</th>\n",
              "      <th>DO23514</th>\n",
              "      <th>DO23515</th>\n",
              "      <th>...</th>\n",
              "      <th>DO50829</th>\n",
              "      <th>DO50832</th>\n",
              "      <th>DO50839</th>\n",
              "      <th>DO50840</th>\n",
              "      <th>DO50844</th>\n",
              "      <th>DO50845</th>\n",
              "      <th>DO50850</th>\n",
              "      <th>DO50855</th>\n",
              "      <th>DO50857</th>\n",
              "      <th>DO50859</th>\n",
              "    </tr>\n",
              "    <tr>\n",
              "      <th>gene_name</th>\n",
              "      <th></th>\n",
              "      <th></th>\n",
              "      <th></th>\n",
              "      <th></th>\n",
              "      <th></th>\n",
              "      <th></th>\n",
              "      <th></th>\n",
              "      <th></th>\n",
              "      <th></th>\n",
              "      <th></th>\n",
              "      <th></th>\n",
              "      <th></th>\n",
              "      <th></th>\n",
              "      <th></th>\n",
              "      <th></th>\n",
              "      <th></th>\n",
              "      <th></th>\n",
              "      <th></th>\n",
              "      <th></th>\n",
              "      <th></th>\n",
              "      <th></th>\n",
              "    </tr>\n",
              "  </thead>\n",
              "  <tbody>\n",
              "    <tr>\n",
              "      <th>A1CF</th>\n",
              "      <td>8.077129</td>\n",
              "      <td>14.490774</td>\n",
              "      <td>7.940282</td>\n",
              "      <td>11.172401</td>\n",
              "      <td>11.031102</td>\n",
              "      <td>4.271600</td>\n",
              "      <td>10.491781</td>\n",
              "      <td>7.868743</td>\n",
              "      <td>17.691812</td>\n",
              "      <td>11.451766</td>\n",
              "      <td>...</td>\n",
              "      <td>1.458270</td>\n",
              "      <td>22.803007</td>\n",
              "      <td>3.627736</td>\n",
              "      <td>13.035844</td>\n",
              "      <td>19.578435</td>\n",
              "      <td>2.156381</td>\n",
              "      <td>19.137566</td>\n",
              "      <td>7.097851</td>\n",
              "      <td>13.690647</td>\n",
              "      <td>21.374001</td>\n",
              "    </tr>\n",
              "    <tr>\n",
              "      <th>A4GALT</th>\n",
              "      <td>0.033003</td>\n",
              "      <td>0.264956</td>\n",
              "      <td>0.104012</td>\n",
              "      <td>0.060385</td>\n",
              "      <td>0.097887</td>\n",
              "      <td>0.047614</td>\n",
              "      <td>0.033016</td>\n",
              "      <td>0.076811</td>\n",
              "      <td>0.125041</td>\n",
              "      <td>0.165263</td>\n",
              "      <td>...</td>\n",
              "      <td>0.217170</td>\n",
              "      <td>0.243250</td>\n",
              "      <td>0.072953</td>\n",
              "      <td>0.144980</td>\n",
              "      <td>0.106219</td>\n",
              "      <td>0.024490</td>\n",
              "      <td>0.308601</td>\n",
              "      <td>0.117804</td>\n",
              "      <td>0.129299</td>\n",
              "      <td>0.044854</td>\n",
              "    </tr>\n",
              "    <tr>\n",
              "      <th>A4GNT</th>\n",
              "      <td>0.001741</td>\n",
              "      <td>0.002858</td>\n",
              "      <td>0.004129</td>\n",
              "      <td>0.004353</td>\n",
              "      <td>0.008306</td>\n",
              "      <td>0.008405</td>\n",
              "      <td>0.021464</td>\n",
              "      <td>0.003625</td>\n",
              "      <td>0.011271</td>\n",
              "      <td>0.163961</td>\n",
              "      <td>...</td>\n",
              "      <td>0.007620</td>\n",
              "      <td>0.058419</td>\n",
              "      <td>NaN</td>\n",
              "      <td>0.005021</td>\n",
              "      <td>NaN</td>\n",
              "      <td>NaN</td>\n",
              "      <td>NaN</td>\n",
              "      <td>0.062691</td>\n",
              "      <td>0.010448</td>\n",
              "      <td>0.006905</td>\n",
              "    </tr>\n",
              "    <tr>\n",
              "      <th>AACS</th>\n",
              "      <td>0.130847</td>\n",
              "      <td>0.310338</td>\n",
              "      <td>0.815234</td>\n",
              "      <td>0.392092</td>\n",
              "      <td>0.356628</td>\n",
              "      <td>0.207554</td>\n",
              "      <td>0.278499</td>\n",
              "      <td>1.071695</td>\n",
              "      <td>0.394803</td>\n",
              "      <td>0.907350</td>\n",
              "      <td>...</td>\n",
              "      <td>1.788046</td>\n",
              "      <td>0.613520</td>\n",
              "      <td>0.105977</td>\n",
              "      <td>0.304799</td>\n",
              "      <td>1.080367</td>\n",
              "      <td>0.231204</td>\n",
              "      <td>0.359645</td>\n",
              "      <td>0.372709</td>\n",
              "      <td>0.293205</td>\n",
              "      <td>0.356137</td>\n",
              "    </tr>\n",
              "    <tr>\n",
              "      <th>AADAC</th>\n",
              "      <td>14.018190</td>\n",
              "      <td>24.986365</td>\n",
              "      <td>12.640567</td>\n",
              "      <td>12.264418</td>\n",
              "      <td>16.295052</td>\n",
              "      <td>5.139943</td>\n",
              "      <td>15.074972</td>\n",
              "      <td>9.655785</td>\n",
              "      <td>28.272511</td>\n",
              "      <td>20.127541</td>\n",
              "      <td>...</td>\n",
              "      <td>1.132571</td>\n",
              "      <td>18.430059</td>\n",
              "      <td>4.667554</td>\n",
              "      <td>16.644431</td>\n",
              "      <td>0.367671</td>\n",
              "      <td>2.492950</td>\n",
              "      <td>19.698714</td>\n",
              "      <td>11.206175</td>\n",
              "      <td>15.220499</td>\n",
              "      <td>14.584226</td>\n",
              "    </tr>\n",
              "    <tr>\n",
              "      <th>...</th>\n",
              "      <td>...</td>\n",
              "      <td>...</td>\n",
              "      <td>...</td>\n",
              "      <td>...</td>\n",
              "      <td>...</td>\n",
              "      <td>...</td>\n",
              "      <td>...</td>\n",
              "      <td>...</td>\n",
              "      <td>...</td>\n",
              "      <td>...</td>\n",
              "      <td>...</td>\n",
              "      <td>...</td>\n",
              "      <td>...</td>\n",
              "      <td>...</td>\n",
              "      <td>...</td>\n",
              "      <td>...</td>\n",
              "      <td>...</td>\n",
              "      <td>...</td>\n",
              "      <td>...</td>\n",
              "      <td>...</td>\n",
              "      <td>...</td>\n",
              "    </tr>\n",
              "    <tr>\n",
              "      <th>XYLB</th>\n",
              "      <td>0.720498</td>\n",
              "      <td>2.303253</td>\n",
              "      <td>0.758431</td>\n",
              "      <td>1.514177</td>\n",
              "      <td>1.982058</td>\n",
              "      <td>0.993634</td>\n",
              "      <td>1.949525</td>\n",
              "      <td>1.040214</td>\n",
              "      <td>1.208990</td>\n",
              "      <td>1.523478</td>\n",
              "      <td>...</td>\n",
              "      <td>0.319828</td>\n",
              "      <td>1.892976</td>\n",
              "      <td>0.758004</td>\n",
              "      <td>1.071850</td>\n",
              "      <td>1.142019</td>\n",
              "      <td>0.165776</td>\n",
              "      <td>2.457395</td>\n",
              "      <td>0.872266</td>\n",
              "      <td>2.067411</td>\n",
              "      <td>1.918511</td>\n",
              "    </tr>\n",
              "    <tr>\n",
              "      <th>XYLT1</th>\n",
              "      <td>0.026227</td>\n",
              "      <td>0.102051</td>\n",
              "      <td>0.023447</td>\n",
              "      <td>0.058665</td>\n",
              "      <td>0.070091</td>\n",
              "      <td>0.037433</td>\n",
              "      <td>0.070531</td>\n",
              "      <td>0.078862</td>\n",
              "      <td>0.084461</td>\n",
              "      <td>0.134678</td>\n",
              "      <td>...</td>\n",
              "      <td>0.209722</td>\n",
              "      <td>0.183719</td>\n",
              "      <td>0.010448</td>\n",
              "      <td>0.063583</td>\n",
              "      <td>0.135855</td>\n",
              "      <td>0.004733</td>\n",
              "      <td>0.139915</td>\n",
              "      <td>0.057333</td>\n",
              "      <td>0.198585</td>\n",
              "      <td>0.024010</td>\n",
              "    </tr>\n",
              "    <tr>\n",
              "      <th>XYLT2</th>\n",
              "      <td>0.446322</td>\n",
              "      <td>1.108197</td>\n",
              "      <td>1.123335</td>\n",
              "      <td>0.718295</td>\n",
              "      <td>0.621438</td>\n",
              "      <td>0.872628</td>\n",
              "      <td>0.838634</td>\n",
              "      <td>1.898885</td>\n",
              "      <td>0.980855</td>\n",
              "      <td>1.377391</td>\n",
              "      <td>...</td>\n",
              "      <td>1.665983</td>\n",
              "      <td>2.441883</td>\n",
              "      <td>0.829044</td>\n",
              "      <td>0.979734</td>\n",
              "      <td>2.036094</td>\n",
              "      <td>0.352663</td>\n",
              "      <td>0.868658</td>\n",
              "      <td>0.838875</td>\n",
              "      <td>0.697236</td>\n",
              "      <td>0.890880</td>\n",
              "    </tr>\n",
              "    <tr>\n",
              "      <th>ZACN</th>\n",
              "      <td>0.507202</td>\n",
              "      <td>0.753302</td>\n",
              "      <td>0.955822</td>\n",
              "      <td>0.566596</td>\n",
              "      <td>0.483669</td>\n",
              "      <td>0.743195</td>\n",
              "      <td>0.990923</td>\n",
              "      <td>0.946805</td>\n",
              "      <td>0.725325</td>\n",
              "      <td>0.869042</td>\n",
              "      <td>...</td>\n",
              "      <td>1.272616</td>\n",
              "      <td>1.925281</td>\n",
              "      <td>0.619201</td>\n",
              "      <td>1.328540</td>\n",
              "      <td>2.058093</td>\n",
              "      <td>0.555144</td>\n",
              "      <td>0.650411</td>\n",
              "      <td>0.723303</td>\n",
              "      <td>0.386424</td>\n",
              "      <td>0.677008</td>\n",
              "    </tr>\n",
              "    <tr>\n",
              "      <th>ZADH2</th>\n",
              "      <td>0.845995</td>\n",
              "      <td>1.403488</td>\n",
              "      <td>1.324048</td>\n",
              "      <td>1.498397</td>\n",
              "      <td>1.014120</td>\n",
              "      <td>0.766060</td>\n",
              "      <td>0.887467</td>\n",
              "      <td>1.937483</td>\n",
              "      <td>1.999328</td>\n",
              "      <td>1.762341</td>\n",
              "      <td>...</td>\n",
              "      <td>1.086505</td>\n",
              "      <td>2.546718</td>\n",
              "      <td>0.642381</td>\n",
              "      <td>1.273711</td>\n",
              "      <td>2.446900</td>\n",
              "      <td>0.235402</td>\n",
              "      <td>2.377796</td>\n",
              "      <td>0.940081</td>\n",
              "      <td>1.311933</td>\n",
              "      <td>1.334104</td>\n",
              "    </tr>\n",
              "  </tbody>\n",
              "</table>\n",
              "<p>2670 rows × 232 columns</p>\n",
              "</div>"
            ],
            "text/plain": [
              "icgc_donor_id   DO227643   DO227801    DO23508    DO23509    DO23510  \\\n",
              "gene_name                                                              \n",
              "A1CF            8.077129  14.490774   7.940282  11.172401  11.031102   \n",
              "A4GALT          0.033003   0.264956   0.104012   0.060385   0.097887   \n",
              "A4GNT           0.001741   0.002858   0.004129   0.004353   0.008306   \n",
              "AACS            0.130847   0.310338   0.815234   0.392092   0.356628   \n",
              "AADAC          14.018190  24.986365  12.640567  12.264418  16.295052   \n",
              "...                  ...        ...        ...        ...        ...   \n",
              "XYLB            0.720498   2.303253   0.758431   1.514177   1.982058   \n",
              "XYLT1           0.026227   0.102051   0.023447   0.058665   0.070091   \n",
              "XYLT2           0.446322   1.108197   1.123335   0.718295   0.621438   \n",
              "ZACN            0.507202   0.753302   0.955822   0.566596   0.483669   \n",
              "ZADH2           0.845995   1.403488   1.324048   1.498397   1.014120   \n",
              "\n",
              "icgc_donor_id   DO23511    DO23512   DO23513    DO23514    DO23515  ...  \\\n",
              "gene_name                                                           ...   \n",
              "A1CF           4.271600  10.491781  7.868743  17.691812  11.451766  ...   \n",
              "A4GALT         0.047614   0.033016  0.076811   0.125041   0.165263  ...   \n",
              "A4GNT          0.008405   0.021464  0.003625   0.011271   0.163961  ...   \n",
              "AACS           0.207554   0.278499  1.071695   0.394803   0.907350  ...   \n",
              "AADAC          5.139943  15.074972  9.655785  28.272511  20.127541  ...   \n",
              "...                 ...        ...       ...        ...        ...  ...   \n",
              "XYLB           0.993634   1.949525  1.040214   1.208990   1.523478  ...   \n",
              "XYLT1          0.037433   0.070531  0.078862   0.084461   0.134678  ...   \n",
              "XYLT2          0.872628   0.838634  1.898885   0.980855   1.377391  ...   \n",
              "ZACN           0.743195   0.990923  0.946805   0.725325   0.869042  ...   \n",
              "ZADH2          0.766060   0.887467  1.937483   1.999328   1.762341  ...   \n",
              "\n",
              "icgc_donor_id   DO50829    DO50832   DO50839    DO50840    DO50844   DO50845  \\\n",
              "gene_name                                                                      \n",
              "A1CF           1.458270  22.803007  3.627736  13.035844  19.578435  2.156381   \n",
              "A4GALT         0.217170   0.243250  0.072953   0.144980   0.106219  0.024490   \n",
              "A4GNT          0.007620   0.058419       NaN   0.005021        NaN       NaN   \n",
              "AACS           1.788046   0.613520  0.105977   0.304799   1.080367  0.231204   \n",
              "AADAC          1.132571  18.430059  4.667554  16.644431   0.367671  2.492950   \n",
              "...                 ...        ...       ...        ...        ...       ...   \n",
              "XYLB           0.319828   1.892976  0.758004   1.071850   1.142019  0.165776   \n",
              "XYLT1          0.209722   0.183719  0.010448   0.063583   0.135855  0.004733   \n",
              "XYLT2          1.665983   2.441883  0.829044   0.979734   2.036094  0.352663   \n",
              "ZACN           1.272616   1.925281  0.619201   1.328540   2.058093  0.555144   \n",
              "ZADH2          1.086505   2.546718  0.642381   1.273711   2.446900  0.235402   \n",
              "\n",
              "icgc_donor_id    DO50850    DO50855    DO50857    DO50859  \n",
              "gene_name                                                  \n",
              "A1CF           19.137566   7.097851  13.690647  21.374001  \n",
              "A4GALT          0.308601   0.117804   0.129299   0.044854  \n",
              "A4GNT                NaN   0.062691   0.010448   0.006905  \n",
              "AACS            0.359645   0.372709   0.293205   0.356137  \n",
              "AADAC          19.698714  11.206175  15.220499  14.584226  \n",
              "...                  ...        ...        ...        ...  \n",
              "XYLB            2.457395   0.872266   2.067411   1.918511  \n",
              "XYLT1           0.139915   0.057333   0.198585   0.024010  \n",
              "XYLT2           0.868658   0.838875   0.697236   0.890880  \n",
              "ZACN            0.650411   0.723303   0.386424   0.677008  \n",
              "ZADH2           2.377796   0.940081   1.311933   1.334104  \n",
              "\n",
              "[2670 rows x 232 columns]"
            ]
          },
          "execution_count": 239,
          "metadata": {},
          "output_type": "execute_result"
        }
      ],
      "source": [
        "ICGC = ICGC_exp_seq.pivot_table(columns='icgc_donor_id', values='TPM', index='gene_name')\n",
        "ICGC"
      ]
    },
    {
      "cell_type": "code",
      "execution_count": null,
      "id": "429d8fc3-d133-49dd-82f7-3e837e5956d8",
      "metadata": {
        "id": "429d8fc3-d133-49dd-82f7-3e837e5956d8",
        "outputId": "4b650744-6486-4f8b-9aba-ad4f2f3f6d13"
      },
      "outputs": [
        {
          "ename": "MergeError",
          "evalue": "No common columns to perform merge on. Merge options: left_on=None, right_on=None, left_index=False, right_index=False",
          "output_type": "error",
          "traceback": [
            "\u001b[1;31m---------------------------------------------------------------------------\u001b[0m",
            "\u001b[1;31mMergeError\u001b[0m                                Traceback (most recent call last)",
            "\u001b[1;32m~\\AppData\\Local\\Temp\\ipykernel_25688\\2963577153.py\u001b[0m in \u001b[0;36m<module>\u001b[1;34m\u001b[0m\n\u001b[1;32m----> 1\u001b[1;33m \u001b[0mSET\u001b[0m \u001b[1;33m=\u001b[0m \u001b[0mICGC\u001b[0m\u001b[1;33m.\u001b[0m\u001b[0mmerge\u001b[0m\u001b[1;33m(\u001b[0m\u001b[0mTCGA\u001b[0m\u001b[1;33m)\u001b[0m\u001b[1;33m\u001b[0m\u001b[1;33m\u001b[0m\u001b[0m\n\u001b[0m\u001b[0;32m      2\u001b[0m \u001b[0mprint\u001b[0m\u001b[1;33m(\u001b[0m\u001b[0mSET\u001b[0m\u001b[1;33m)\u001b[0m\u001b[1;33m\u001b[0m\u001b[1;33m\u001b[0m\u001b[0m\n",
            "\u001b[1;32m~\\anaconda3\\lib\\site-packages\\pandas\\core\\frame.py\u001b[0m in \u001b[0;36mmerge\u001b[1;34m(self, right, how, on, left_on, right_on, left_index, right_index, sort, suffixes, copy, indicator, validate)\u001b[0m\n",
            "\u001b[1;32m~\\anaconda3\\lib\\site-packages\\pandas\\core\\reshape\\merge.py\u001b[0m in \u001b[0;36mmerge\u001b[1;34m(left, right, how, on, left_on, right_on, left_index, right_index, sort, suffixes, copy, indicator, validate)\u001b[0m\n\u001b[0;32m    105\u001b[0m     \u001b[0mright\u001b[0m\u001b[1;33m:\u001b[0m \u001b[0mDataFrame\u001b[0m\u001b[1;33m\u001b[0m\u001b[1;33m\u001b[0m\u001b[0m\n\u001b[0;32m    106\u001b[0m     \u001b[0mmerge_pieces\u001b[0m\u001b[1;33m:\u001b[0m \u001b[0mfunction\u001b[0m \u001b[1;32mfor\u001b[0m \u001b[0mmerging\u001b[0m\u001b[1;33m\u001b[0m\u001b[1;33m\u001b[0m\u001b[0m\n\u001b[1;32m--> 107\u001b[1;33m     \"\"\"\n\u001b[0m\u001b[0;32m    108\u001b[0m     \u001b[0mpieces\u001b[0m \u001b[1;33m=\u001b[0m \u001b[1;33m[\u001b[0m\u001b[1;33m]\u001b[0m\u001b[1;33m\u001b[0m\u001b[1;33m\u001b[0m\u001b[0m\n\u001b[0;32m    109\u001b[0m     \u001b[1;32mif\u001b[0m \u001b[1;32mnot\u001b[0m \u001b[0misinstance\u001b[0m\u001b[1;33m(\u001b[0m\u001b[0mby\u001b[0m\u001b[1;33m,\u001b[0m \u001b[1;33m(\u001b[0m\u001b[0mlist\u001b[0m\u001b[1;33m,\u001b[0m \u001b[0mtuple\u001b[0m\u001b[1;33m)\u001b[0m\u001b[1;33m)\u001b[0m\u001b[1;33m:\u001b[0m\u001b[1;33m\u001b[0m\u001b[1;33m\u001b[0m\u001b[0m\n",
            "\u001b[1;32m~\\anaconda3\\lib\\site-packages\\pandas\\core\\reshape\\merge.py\u001b[0m in \u001b[0;36m__init__\u001b[1;34m(self, left, right, how, on, left_on, right_on, axis, left_index, right_index, sort, suffixes, copy, indicator, validate)\u001b[0m\n\u001b[0;32m    680\u001b[0m             \u001b[0mconcat_axis\u001b[0m\u001b[1;33m=\u001b[0m\u001b[1;36m0\u001b[0m\u001b[1;33m,\u001b[0m\u001b[1;33m\u001b[0m\u001b[1;33m\u001b[0m\u001b[0m\n\u001b[0;32m    681\u001b[0m             \u001b[0mcopy\u001b[0m\u001b[1;33m=\u001b[0m\u001b[0mself\u001b[0m\u001b[1;33m.\u001b[0m\u001b[0mcopy\u001b[0m\u001b[1;33m,\u001b[0m\u001b[1;33m\u001b[0m\u001b[1;33m\u001b[0m\u001b[0m\n\u001b[1;32m--> 682\u001b[1;33m         )\n\u001b[0m\u001b[0;32m    683\u001b[0m \u001b[1;33m\u001b[0m\u001b[0m\n\u001b[0;32m    684\u001b[0m         \u001b[0mtyp\u001b[0m \u001b[1;33m=\u001b[0m \u001b[0mself\u001b[0m\u001b[1;33m.\u001b[0m\u001b[0mleft\u001b[0m\u001b[1;33m.\u001b[0m\u001b[0m_constructor\u001b[0m\u001b[1;33m\u001b[0m\u001b[1;33m\u001b[0m\u001b[0m\n",
            "\u001b[1;32m~\\anaconda3\\lib\\site-packages\\pandas\\core\\reshape\\merge.py\u001b[0m in \u001b[0;36m_validate_specification\u001b[1;34m(self)\u001b[0m\n\u001b[0;32m   1351\u001b[0m         \u001b[1;34m\"right\"\u001b[0m\u001b[1;33m:\u001b[0m \u001b[0m_right_outer_join\u001b[0m\u001b[1;33m,\u001b[0m\u001b[1;33m\u001b[0m\u001b[1;33m\u001b[0m\u001b[0m\n\u001b[0;32m   1352\u001b[0m         \u001b[1;34m\"outer\"\u001b[0m\u001b[1;33m:\u001b[0m \u001b[0mlibjoin\u001b[0m\u001b[1;33m.\u001b[0m\u001b[0mfull_outer_join\u001b[0m\u001b[1;33m,\u001b[0m\u001b[1;33m\u001b[0m\u001b[1;33m\u001b[0m\u001b[0m\n\u001b[1;32m-> 1353\u001b[1;33m     }[how]\n\u001b[0m\u001b[0;32m   1354\u001b[0m \u001b[1;33m\u001b[0m\u001b[0m\n\u001b[0;32m   1355\u001b[0m     \u001b[1;32mreturn\u001b[0m \u001b[0mjoin_func\u001b[0m\u001b[1;33m(\u001b[0m\u001b[0mlkey\u001b[0m\u001b[1;33m,\u001b[0m \u001b[0mrkey\u001b[0m\u001b[1;33m,\u001b[0m \u001b[0mcount\u001b[0m\u001b[1;33m,\u001b[0m \u001b[1;33m**\u001b[0m\u001b[0mkwargs\u001b[0m\u001b[1;33m)\u001b[0m\u001b[1;33m\u001b[0m\u001b[1;33m\u001b[0m\u001b[0m\n",
            "\u001b[1;31mMergeError\u001b[0m: No common columns to perform merge on. Merge options: left_on=None, right_on=None, left_index=False, right_index=False"
          ]
        }
      ],
      "source": [
        "SET = ICGC.merge(TCGA)\n",
        "print(SET)"
      ]
    },
    {
      "cell_type": "code",
      "execution_count": 2,
      "id": "37b479db-012a-4ded-b750-6330d80692e9",
      "metadata": {
        "colab": {
          "base_uri": "https://localhost:8080/",
          "height": 165
        },
        "id": "37b479db-012a-4ded-b750-6330d80692e9",
        "outputId": "e425b844-c095-414c-cfef-cde12ef251a5"
      },
      "outputs": [
        {
          "output_type": "error",
          "ename": "NameError",
          "evalue": "ignored",
          "traceback": [
            "\u001b[0;31m---------------------------------------------------------------------------\u001b[0m",
            "\u001b[0;31mNameError\u001b[0m                                 Traceback (most recent call last)",
            "\u001b[0;32m<ipython-input-2-7dcc15f746c1>\u001b[0m in \u001b[0;36m<module>\u001b[0;34m\u001b[0m\n\u001b[0;32m----> 1\u001b[0;31m \u001b[0mCOMBAT\u001b[0m \u001b[0;34m=\u001b[0m \u001b[0mpycombat\u001b[0m\u001b[0;34m(\u001b[0m\u001b[0mICGC\u001b[0m\u001b[0;34m,\u001b[0m \u001b[0mbatch\u001b[0m\u001b[0;34m)\u001b[0m\u001b[0;34m\u001b[0m\u001b[0;34m\u001b[0m\u001b[0m\n\u001b[0m",
            "\u001b[0;31mNameError\u001b[0m: name 'pycombat' is not defined"
          ]
        }
      ],
      "source": [
        "COMBAT = pycombat(ICGC, batch)"
      ]
    },
    {
      "cell_type": "code",
      "execution_count": null,
      "id": "a72b62e3-0d73-48dc-8d8d-6fac8853ae22",
      "metadata": {
        "id": "a72b62e3-0d73-48dc-8d8d-6fac8853ae22",
        "outputId": "d70ac57f-de7e-448d-ba0b-9ba63bd4bb6d"
      },
      "outputs": [
        {
          "name": "stdout",
          "output_type": "stream",
          "text": [
            "[4.49580385 0.04932075        nan ... 0.26543035 0.23904377 0.41992027]\n"
          ]
        }
      ],
      "source": []
    },
    {
      "cell_type": "code",
      "execution_count": null,
      "id": "f456258e-46f8-44ec-b6fa-fd0742dc1e6d",
      "metadata": {
        "id": "f456258e-46f8-44ec-b6fa-fd0742dc1e6d"
      },
      "outputs": [],
      "source": []
    }
  ],
  "metadata": {
    "kernelspec": {
      "display_name": "Python 3 (ipykernel)",
      "language": "python",
      "name": "python3"
    },
    "language_info": {
      "codemirror_mode": {
        "name": "ipython",
        "version": 3
      },
      "file_extension": ".py",
      "mimetype": "text/x-python",
      "name": "python",
      "nbconvert_exporter": "python",
      "pygments_lexer": "ipython3",
      "version": "3.9.13"
    },
    "colab": {
      "provenance": [],
      "collapsed_sections": []
    }
  },
  "nbformat": 4,
  "nbformat_minor": 5
}